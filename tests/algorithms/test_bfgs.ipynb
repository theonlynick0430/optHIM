{
 "cells": [
  {
   "cell_type": "markdown",
   "metadata": {},
   "source": [
    "# Visual Unit Tests for BFGS Optimizer\n"
   ]
  },
  {
   "cell_type": "code",
   "execution_count": 8,
   "metadata": {},
   "outputs": [],
   "source": [
    "import matplotlib.pyplot as plt\n",
    "import numpy as np\n",
    "import torch\n",
    "from optim.algorithms.bfgs import BFGS\n",
    "\n",
    "NUM_ITER = 100\n",
    "\n",
    "def create_contours(model, x1, x2):\n",
    "    X1, X2 = np.meshgrid(x1, x2)\n",
    "    Z = np.zeros_like(X1)\n",
    "    for i in range(len(x1)):\n",
    "        for j in range(len(x2)):\n",
    "            x = torch.tensor([x1[i], x2[j]], dtype=torch.float32)\n",
    "            Z[j,i] = model(x)\n",
    "    return X1, X2, Z\n",
    "\n",
    "def plot_traj(traj, title, contours=None):\n",
    "    plt.figure()\n",
    "    # plot contours\n",
    "    if contours is not None:\n",
    "        X1, X2, Z = contours\n",
    "        plt.contour(X1, X2, Z, levels=20)\n",
    "        plt.colorbar(label='f(x)')\n",
    "    # plot trajectory\n",
    "    plt.plot(traj[:,0], traj[:,1])\n",
    "    plt.xlabel('x1')\n",
    "    plt.ylabel('x2')\n",
    "    plt.title(title)\n",
    "    plt.grid(True)\n",
    "    plt.show()\n",
    "\n",
    "def optimize(model, x, optimizer, loss_cl=None):\n",
    "    traj = []\n",
    "    traj.append(x.detach().numpy().copy())\n",
    "\n",
    "    # optimize\n",
    "    for _ in range(NUM_ITER):\n",
    "        optimizer.zero_grad()\n",
    "        loss = model(x)\n",
    "        loss.backward()\n",
    "        optimizer.step(loss_cl=loss_cl)\n",
    "        traj.append(x.detach().numpy().copy())\n",
    "\n",
    "    return np.array(traj)"
   ]
  },
  {
   "cell_type": "markdown",
   "metadata": {},
   "source": [
    "## Simple Quadratic\n",
    "\n",
    "$f(x) = x^T x$"
   ]
  },
  {
   "cell_type": "code",
   "execution_count": 9,
   "metadata": {},
   "outputs": [],
   "source": [
    "from optim.functions.quadratic import Quadratic\n",
    "\n",
    "# create model\n",
    "A = 2 * torch.eye(2, dtype=torch.float32)\n",
    "b = torch.zeros(2, dtype=torch.float32)\n",
    "c = torch.tensor(0.0, dtype=torch.float32)\n",
    "model = Quadratic(A, b, c)\n",
    "\n",
    "# create contours\n",
    "x1 = np.linspace(-1.5, 1.5, 25)\n",
    "x2 = np.linspace(-1.5, 1.5, 25)\n",
    "contours = create_contours(model, x1, x2)"
   ]
  },
  {
   "cell_type": "markdown",
   "metadata": {},
   "source": [
    "#### Constant Step Size "
   ]
  },
  {
   "cell_type": "code",
   "execution_count": null,
   "metadata": {},
   "outputs": [],
   "source": [
    "# create input\n",
    "x = torch.tensor([1.0, 1.0], dtype=torch.float32, requires_grad=True)\n",
    "\n",
    "# optimize \n",
    "traj = optimize(model, x, BFGS([x], step_type='constant', step_size=1e-1))\n",
    "\n",
    "plot_traj(traj, \"BFGS | Simple Quadratic | Constant\", contours)"
   ]
  },
  {
   "cell_type": "markdown",
   "metadata": {},
   "source": [
    "#### Backtracking "
   ]
  },
  {
   "cell_type": "code",
   "execution_count": null,
   "metadata": {},
   "outputs": [],
   "source": [
    "# create input\n",
    "x = torch.tensor([1.0, 1.0], dtype=torch.float32, requires_grad=True)\n",
    "\n",
    "# optimize \n",
    "traj = optimize(model, x, BFGS([x], step_type='armijo', alpha=1), loss_cl=lambda: model(x))\n",
    "\n",
    "plot_traj(traj, \"BFGS | Simple Quadratic | Armijo\", contours)"
   ]
  },
  {
   "cell_type": "markdown",
   "metadata": {},
   "source": [
    "## Rosenbrock\n",
    "\n",
    "$f(x) = (1-x_1)^2 + 100(x_2-x_1^2)^2$"
   ]
  },
  {
   "cell_type": "code",
   "execution_count": 12,
   "metadata": {},
   "outputs": [],
   "source": [
    "from optim.functions.rosenbrock import Rosenbrock\n",
    "\n",
    "# create model\n",
    "model = Rosenbrock()\n",
    "\n",
    "# create contours\n",
    "x1 = np.linspace(-2, 2, 25)\n",
    "x2 = np.linspace(-3, 3, 25)\n",
    "contours = create_contours(model, x1, x2)"
   ]
  },
  {
   "cell_type": "markdown",
   "metadata": {},
   "source": [
    "#### Constant Step Size "
   ]
  },
  {
   "cell_type": "code",
   "execution_count": null,
   "metadata": {},
   "outputs": [],
   "source": [
    "# create input\n",
    "x = torch.tensor([-1.2, 1.0], dtype=torch.float32, requires_grad=True)\n",
    "\n",
    "# optimize \n",
    "traj = optimize(model, x, BFGS([x], step_type='constant', step_size=1e-3))\n",
    "\n",
    "plot_traj(traj, \"BFGS | Rosenbrock | Constant\", contours)"
   ]
  },
  {
   "cell_type": "markdown",
   "metadata": {},
   "source": [
    "#### Backtracking"
   ]
  },
  {
   "cell_type": "code",
   "execution_count": null,
   "metadata": {},
   "outputs": [],
   "source": [
    "# create input\n",
    "x = torch.tensor([-1.2, 1.0], dtype=torch.float32, requires_grad=True)\n",
    "\n",
    "# optimize \n",
    "traj = optimize(model, x, BFGS([x], step_type='armijo', alpha=1), loss_cl=lambda: model(x))\n",
    "\n",
    "plot_traj(traj, \"BFGS | Rosenbrock | Armijo\", contours)"
   ]
  }
 ],
 "metadata": {
  "kernelspec": {
   "display_name": "math562",
   "language": "python",
   "name": "python3"
  },
  "language_info": {
   "codemirror_mode": {
    "name": "ipython",
    "version": 3
   },
   "file_extension": ".py",
   "mimetype": "text/x-python",
   "name": "python",
   "nbconvert_exporter": "python",
   "pygments_lexer": "ipython3",
   "version": "3.10.16"
  }
 },
 "nbformat": 4,
 "nbformat_minor": 2
}
