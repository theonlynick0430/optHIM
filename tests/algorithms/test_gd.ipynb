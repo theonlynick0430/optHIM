{
 "cells": [
  {
   "cell_type": "markdown",
   "metadata": {},
   "source": [
    "# Visual Unit Tests for Gradient Descent (GD) Optimizer\n"
   ]
  },
  {
   "cell_type": "code",
   "execution_count": 1,
   "metadata": {},
   "outputs": [],
   "source": [
    "import numpy as np\n",
    "import torch\n",
    "from optim.utils.plot import create_contours, plot_traj\n",
    "from optim.algorithms.gd import GD\n",
    "\n",
    "NUM_ITER = 100\n",
    "\n",
    "def optimize(function, x, optimizer, num_iter=NUM_ITER, fn_cls=None):\n",
    "    traj = []\n",
    "    traj.append(x.detach().numpy().copy())\n",
    "\n",
    "    # optimize\n",
    "    for _ in range(num_iter):\n",
    "        optimizer.zero_grad()\n",
    "        f = function(x)\n",
    "        f.backward()\n",
    "        optimizer.step(fn_cls=fn_cls)\n",
    "        traj.append(x.detach().numpy().copy())\n",
    "\n",
    "    return np.array(traj)"
   ]
  },
  {
   "cell_type": "markdown",
   "metadata": {},
   "source": [
    "## Simple Quadratic\n",
    "\n",
    "$f(x) = x^T x$"
   ]
  },
  {
   "cell_type": "code",
   "execution_count": 2,
   "metadata": {},
   "outputs": [],
   "source": [
    "from optim.functions.quadratic import Quadratic\n",
    "\n",
    "# create function\n",
    "A = 2 * torch.eye(2, dtype=torch.float32)\n",
    "b = torch.zeros(2, dtype=torch.float32)\n",
    "c = torch.tensor(0.0, dtype=torch.float32)\n",
    "function = Quadratic(A, b, c)\n",
    "\n",
    "# create contours\n",
    "x1 = np.linspace(-1.5, 1.5, 25)\n",
    "x2 = np.linspace(-1.5, 1.5, 25)\n",
    "contours = create_contours(function, x1, x2)"
   ]
  },
  {
   "cell_type": "markdown",
   "metadata": {},
   "source": [
    "#### Constant Step Size "
   ]
  },
  {
   "cell_type": "code",
   "execution_count": null,
   "metadata": {},
   "outputs": [],
   "source": [
    "# create input\n",
    "x = torch.tensor([1.0, 1.0], dtype=torch.float32, requires_grad=True)\n",
    "\n",
    "# optimize \n",
    "traj = optimize(function, x, GD([x], step_type='constant', step_size=1e-1))\n",
    "\n",
    "plot_traj(traj, \"GD | Simple Quadratic | Constant\", contours)"
   ]
  },
  {
   "cell_type": "markdown",
   "metadata": {},
   "source": [
    "#### Backtracking "
   ]
  },
  {
   "cell_type": "code",
   "execution_count": null,
   "metadata": {},
   "outputs": [],
   "source": [
    "# create input\n",
    "x = torch.tensor([1.0, 1.0], dtype=torch.float32, requires_grad=True)\n",
    "\n",
    "# optimize \n",
    "traj = optimize(function, x, GD([x], step_type='armijo', alpha=0.5), fn_cls=lambda: function(x))\n",
    "\n",
    "plot_traj(traj, \"GD | Simple Quadratic | Armijo\", contours)"
   ]
  },
  {
   "cell_type": "markdown",
   "metadata": {},
   "source": [
    "## Rosenbrock\n",
    "\n",
    "$f(x) = (1-x_1)^2 + 100(x_2-x_1^2)^2$"
   ]
  },
  {
   "cell_type": "code",
   "execution_count": 5,
   "metadata": {},
   "outputs": [],
   "source": [
    "from optim.functions.rosenbrock import Rosenbrock\n",
    "\n",
    "# create function\n",
    "function = Rosenbrock()\n",
    "\n",
    "# create contours\n",
    "x1 = np.linspace(-2, 2, 25)\n",
    "x2 = np.linspace(-1, 3, 25)\n",
    "contours = create_contours(function, x1, x2)"
   ]
  },
  {
   "cell_type": "markdown",
   "metadata": {},
   "source": [
    "#### Constant Step Size "
   ]
  },
  {
   "cell_type": "code",
   "execution_count": null,
   "metadata": {},
   "outputs": [],
   "source": [
    "# create input\n",
    "x = torch.tensor([-1.2, 1.0], dtype=torch.float32, requires_grad=True)\n",
    "\n",
    "# optimize \n",
    "traj = optimize(function, x, GD([x], step_type='constant', step_size=1e-3))\n",
    "\n",
    "plot_traj(traj, \"GD | Rosenbrock | Constant\", contours)"
   ]
  },
  {
   "cell_type": "markdown",
   "metadata": {},
   "source": [
    "#### Backtracking"
   ]
  },
  {
   "cell_type": "code",
   "execution_count": null,
   "metadata": {},
   "outputs": [],
   "source": [
    "# create input\n",
    "x = torch.tensor([-1.2, 1.0], dtype=torch.float32, requires_grad=True)\n",
    "\n",
    "# optimize \n",
    "traj = optimize(function, x, GD([x], step_type='armijo', alpha=1e-2), fn_cls=lambda: function(x))\n",
    "\n",
    "plot_traj(traj, \"GD | Rosenbrock | Armijo\", contours)"
   ]
  }
 ],
 "metadata": {
  "kernelspec": {
   "display_name": "math562",
   "language": "python",
   "name": "python3"
  },
  "language_info": {
   "codemirror_mode": {
    "name": "ipython",
    "version": 3
   },
   "file_extension": ".py",
   "mimetype": "text/x-python",
   "name": "python",
   "nbconvert_exporter": "python",
   "pygments_lexer": "ipython3",
   "version": "3.10.16"
  }
 },
 "nbformat": 4,
 "nbformat_minor": 2
}
